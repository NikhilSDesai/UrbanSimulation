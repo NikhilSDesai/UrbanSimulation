{
 "cells": [
  {
   "cell_type": "code",
   "execution_count": 12,
   "id": "067eb767-149c-43c8-8eb2-c6c9eeb8e4a8",
   "metadata": {},
   "outputs": [],
   "source": [
    "# import libraries\n",
    "from operator import itemgetter\n",
    "\n",
    "import geopandas as gpd\n",
    "import matplotlib.pyplot as plt\n",
    "import networkx as nx\n",
    "import numpy as np\n",
    "import pandas as pd"
   ]
  },
  {
   "cell_type": "markdown",
   "id": "e7d22d87-009d-4ec1-ac8e-4629184ab93f",
   "metadata": {},
   "source": [
    "## Part 1: London’s Underground Resilience"
   ]
  },
  {
   "cell_type": "markdown",
   "id": "8a5be81d-9bca-4f8d-bceb-abd1cb669c0f",
   "metadata": {},
   "source": [
    "### I.1.1 Centrality Measures"
   ]
  },
  {
   "cell_type": "markdown",
   "id": "0b6346a1-073a-4966-8472-8b9d69ba71c5",
   "metadata": {},
   "source": [
    "#### Betweeness Centrality\n",
    "- Betweeness Centrality measures the extent to which a node lies on the shortest path between other nodes in the network.\n",
    "- Contextual Defintion: It identifies stations through which the highest number of shortest paths pass through. BC identifies the stations needed to transfer passengers *efficiently* throughout the network\n",
    "- Why it's important: Identifies stations that , if closed, would cause the greatest increase in journey times across the network\n",
    "\\begin{equation} C_{B}(v) = \\sum_{s,t \\neq v} \\frac{\\sigma_{st}(v)}{\\sigma_{st}} \\end{equation}\n",
    "\n",
    "#### Degree Centrality\n",
    "- Definition: Degree Centrality measures the number of *one-edge* direct connections a node has.\n",
    "- Contextual Defintion: This highlights the stations with the most direct connections to other stations, indicating hubs or key transfer points.\n",
    "- Why it's important: Identifies the most interconnected stations. These nodes facilitate multiple route options.\n",
    "\n",
    "\\begin{equation} C_{D}(v) = \\frac{deg(v)}{n-1} \\end{equation}\n",
    "\n",
    "#### Closeness Centrality\n",
    "- Closeness Centrality is a score that indicates how close a node is to all other nodes in the network, based on the shortest paths.\n",
    "- Contextual Defintion: Point to stations that are most efficiently located to reach all other stations in the network, minimising travel time for commuters\n",
    "- Why it's important: Identifies stations that offer the shortest average journey time to all other stations.\n",
    "\n",
    "\\begin{equation} C_{i}= \\frac{1}{l_{i}} = \\frac{n}{\\sum_{j} d_{ij}}\\end{equation}"
   ]
  },
  {
   "cell_type": "markdown",
   "id": "6ba1cb8f-425c-4a2f-aff9-4bf07419b1c8",
   "metadata": {},
   "source": [
    "### Construct the Network"
   ]
  },
  {
   "cell_type": "code",
   "execution_count": 16,
   "id": "fc58698e-12d2-46b9-b06a-994f627c10f8",
   "metadata": {},
   "outputs": [
    {
     "name": "stdout",
     "output_type": "stream",
     "text": [
      "Graph with 401 nodes and 467 edges\n"
     ]
    },
    {
     "data": {
      "text/plain": [
       "('Uxbridge', {'coords': '(505605.79164161877, 184156.71191985375)'})"
      ]
     },
     "execution_count": 16,
     "metadata": {},
     "output_type": "execute_result"
    }
   ],
   "source": [
    "# read in london.graph & check\n",
    "G = nx.read_graphml(\"data/london.graph.xml\")\n",
    "\n",
    "# print node / edge count\n",
    "print(G)\n",
    "\n",
    "# print head [0] / see attributes\n",
    "list(G.nodes(data=True))[0]"
   ]
  },
  {
   "cell_type": "code",
   "execution_count": null,
   "id": "e462eecb-252d-4713-bcdd-dfd68bec563c",
   "metadata": {},
   "outputs": [],
   "source": []
  },
  {
   "cell_type": "markdown",
   "id": "1af9f1f6-609e-4426-bcb6-b79eba29e855",
   "metadata": {},
   "source": [
    "### I.1.2 Centrality Calculations"
   ]
  },
  {
   "cell_type": "markdown",
   "id": "7e6d6eae-44a5-4815-925c-c87435d1b3d2",
   "metadata": {},
   "source": [
    "#### Calculating Betweeness Centrality"
   ]
  },
  {
   "cell_type": "code",
   "execution_count": 18,
   "id": "d1cc3188-5f12-4e2d-abb5-44b26f7bc8ef",
   "metadata": {},
   "outputs": [
    {
     "data": {
      "text/html": [
       "<div>\n",
       "<style scoped>\n",
       "    .dataframe tbody tr th:only-of-type {\n",
       "        vertical-align: middle;\n",
       "    }\n",
       "\n",
       "    .dataframe tbody tr th {\n",
       "        vertical-align: top;\n",
       "    }\n",
       "\n",
       "    .dataframe thead th {\n",
       "        text-align: right;\n",
       "    }\n",
       "</style>\n",
       "<table border=\"1\" class=\"dataframe\">\n",
       "  <thead>\n",
       "    <tr style=\"text-align: right;\">\n",
       "      <th></th>\n",
       "      <th>betweenness</th>\n",
       "    </tr>\n",
       "  </thead>\n",
       "  <tbody>\n",
       "    <tr>\n",
       "      <th>Uxbridge</th>\n",
       "      <td>0.000000</td>\n",
       "    </tr>\n",
       "    <tr>\n",
       "      <th>Hillingdon</th>\n",
       "      <td>399.000000</td>\n",
       "    </tr>\n",
       "    <tr>\n",
       "      <th>Ickenham</th>\n",
       "      <td>796.000000</td>\n",
       "    </tr>\n",
       "    <tr>\n",
       "      <th>Ruislip</th>\n",
       "      <td>1191.000000</td>\n",
       "    </tr>\n",
       "    <tr>\n",
       "      <th>Ruislip Manor</th>\n",
       "      <td>1584.000000</td>\n",
       "    </tr>\n",
       "    <tr>\n",
       "      <th>Eastcote</th>\n",
       "      <td>1975.000000</td>\n",
       "    </tr>\n",
       "    <tr>\n",
       "      <th>Rayners Lane</th>\n",
       "      <td>3919.230159</td>\n",
       "    </tr>\n",
       "    <tr>\n",
       "      <th>West Harrow</th>\n",
       "      <td>3835.480159</td>\n",
       "    </tr>\n",
       "    <tr>\n",
       "      <th>Aldgate</th>\n",
       "      <td>32.321429</td>\n",
       "    </tr>\n",
       "    <tr>\n",
       "      <th>Liverpool Street</th>\n",
       "      <td>21610.387049</td>\n",
       "    </tr>\n",
       "  </tbody>\n",
       "</table>\n",
       "</div>"
      ],
      "text/plain": [
       "                   betweenness\n",
       "Uxbridge              0.000000\n",
       "Hillingdon          399.000000\n",
       "Ickenham            796.000000\n",
       "Ruislip            1191.000000\n",
       "Ruislip Manor      1584.000000\n",
       "Eastcote           1975.000000\n",
       "Rayners Lane       3919.230159\n",
       "West Harrow        3835.480159\n",
       "Aldgate              32.321429\n",
       "Liverpool Street  21610.387049"
      ]
     },
     "execution_count": 18,
     "metadata": {},
     "output_type": "execute_result"
    }
   ],
   "source": [
    "# calculate betweeness\n",
    "bet_G=nx.betweenness_centrality(G,weight='weight', normalized=False)\n",
    "\n",
    "pd.DataFrame.from_dict(bet_G,columns=['betweenness'],orient='index')[0:10]"
   ]
  },
  {
   "cell_type": "code",
   "execution_count": null,
   "id": "bf43192c-8d2a-4b30-b942-ea5f085b8739",
   "metadata": {},
   "outputs": [],
   "source": []
  },
  {
   "cell_type": "code",
   "execution_count": null,
   "id": "d9c86673-1829-4e17-861e-e466c8949e08",
   "metadata": {},
   "outputs": [],
   "source": []
  },
  {
   "cell_type": "markdown",
   "id": "0ac930b1-204a-4080-983f-c26ddbc1b541",
   "metadata": {},
   "source": [
    "## Part 2: Spatial Interaction models"
   ]
  },
  {
   "cell_type": "markdown",
   "id": "c5224d39-b988-4f4e-8ddf-42974a32a0bf",
   "metadata": {},
   "source": [
    "### III. Models and Calibration"
   ]
  },
  {
   "cell_type": "markdown",
   "id": "4d1a447d-a816-40f7-8e4e-708baeb0eb7e",
   "metadata": {},
   "source": [
    "#### III.1 Spatial Interaction Model"
   ]
  },
  {
   "cell_type": "markdown",
   "id": "8e342b97-6139-4d27-a386-23e6554e183b",
   "metadata": {},
   "source": [
    "- Briefly introduce the spatial interaction models covered in the lectures using equations and defining the terms, taking particular care in explaining the role of the parameters."
   ]
  },
  {
   "cell_type": "markdown",
   "id": "470acc91-bd77-4531-ac58-0fa31b86ae1e",
   "metadata": {},
   "source": [
    "**Unconstrained Model**\n",
    "\n",
    "Unconstrained Model is a spatial interaction model that predicts the flow of people, goods or information between two points or nodes only based on size and distance. *Unconstrained* models are not limited by the capcity of the destination or the number of people or goods sent from the origin"
   ]
  },
  {
   "cell_type": "markdown",
   "id": "e459c730-0bba-48cb-9aca-5c442fef44de",
   "metadata": {},
   "source": [
    "*Below are the two forms the Unconstrained Spatial Interaction Model can take:*\n",
    "\n",
    "\\begin{equation} \\\n",
    "T_{ij} = k \\frac{O_i^\\alpha  D_j^\\gamma}{ d_{ij}^\\beta}\n",
    "\\end{equation}\n",
    "\n",
    "*OR*\n",
    "\n",
    "\\begin{equation} \\\n",
    "T_{ij} = k O_i^\\alpha  D_j^\\gamma  d_{ij}^{-\\beta}\n",
    "\\end{equation}"
   ]
  },
  {
   "cell_type": "markdown",
   "id": "fa4928c1-0070-43c6-932d-d225fd19150c",
   "metadata": {},
   "source": [
    "The above equations defines the flow of people or goods (*Tij*) between points *i* and *j*. Using the emissivity of the Origin, denoted as *O* and attractiveness Destination, *D*. There are several parameters ($k$, $\\alpha$, $\\gamma$ and $β$) used in this equation which are outlined.\n",
    "\n",
    "- $\\beta$ refers to the how sensative the person or good is to travelling marginal distance.\n",
    "- $\\alpha$ refers to the emissivity of the origin. This is the willingness of the population to travel from the destination.\n",
    "- $\\gamma$ refers to the attractiveness or *pull* of the destination.\n",
    "- $k$ is the general scaling parameter. This is a measure of the size of the model and number of people interacting in the model."
   ]
  },
  {
   "cell_type": "markdown",
   "id": "1cc0197a-06ca-4dc7-a491-42048b6885da",
   "metadata": {},
   "source": [
    "**Single Constrained Model**\n",
    "\n",
    "Estimates the interaction between different locations with a constraint applied to either the origin (total outflows) or destination (total inflows)\n",
    "\n",
    "Below is an example of a singly, production constrained model.\n",
    "\n",
    "\\begin{equation} \\label{eq:1} \\tag{1}\n",
    "T_{ij} = A_i O_i D_j^\\gamma d_{ij}^{-\\beta}\n",
    "\\end{equation}\n",
    "\n",
    "Where\n",
    "\n",
    "\\begin{equation} \\label{eq:2} \\tag{2}\n",
    "O_i = \\sum_j T_{ij}\n",
    "\\end{equation}\n",
    "\n",
    "and\n",
    "\n",
    "\\begin{equation} \\label{eq:3} \\tag{3}\n",
    "A_i = \\frac{1}{\\sum_j D_j^\\gamma d_{ij}^{-\\beta}}\n",
    "\\end{equation}"
   ]
  }
 ],
 "metadata": {
  "kernelspec": {
   "display_name": "urbsim",
   "language": "python",
   "name": "urbsim"
  },
  "language_info": {
   "codemirror_mode": {
    "name": "ipython",
    "version": 3
   },
   "file_extension": ".py",
   "mimetype": "text/x-python",
   "name": "python",
   "nbconvert_exporter": "python",
   "pygments_lexer": "ipython3",
   "version": "3.11.7"
  }
 },
 "nbformat": 4,
 "nbformat_minor": 5
}
